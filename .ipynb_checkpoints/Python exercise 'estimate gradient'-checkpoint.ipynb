{
 "cells": [
  {
   "cell_type": "markdown",
   "metadata": {},
   "source": [
    "# Python exercise 'estimate gradient’ "
   ]
  },
  {
   "cell_type": "markdown",
   "metadata": {},
   "source": [
    "## Import Statements"
   ]
  },
  {
   "cell_type": "code",
   "execution_count": 4,
   "metadata": {},
   "outputs": [],
   "source": [
    "import numpy as np\n",
    "import seaborn as sns\n",
    "import matplotlib.pyplot as plt\n",
    "import matplotlib.animation as animation\n",
    "import random\n",
    "\n",
    "from scipy import stats \n",
    "from sklearn.datasets.samples_generator import make_regression \n",
    "\n",
    "#test"
   ]
  },
  {
   "cell_type": "markdown",
   "metadata": {},
   "source": [
    "## Part 1"
   ]
  },
  {
   "cell_type": "markdown",
   "metadata": {},
   "source": [
    "Pick three vectors from the table, using letters from your names and using each column."
   ]
  },
  {
   "cell_type": "code",
   "execution_count": 5,
   "metadata": {},
   "outputs": [],
   "source": [
    "# We pick C, K and A from Cathy and Kai\n",
    "u = np.array([19, 41]) # from C\n",
    "v = np.array([86, 6])  # from K\n",
    "w = np.array([56, 20]) # from A"
   ]
  },
  {
   "cell_type": "markdown",
   "metadata": {},
   "source": [
    "Define the distance between two vectors as x, u as:\n",
    "Dist (x,u)= (x1-u1)2+(x2-u2)2\n",
    "\n",
    "Define the similarity function:\n",
    "Diff(x) = ln(1+Dist(u,x))+ln(1+Dist(v,x))+ln(1+Dist(w,x))\n",
    "\n",
    "Diff(x) is the distance between person x and your focus group of three people.\n",
    "\n"
   ]
  },
  {
   "cell_type": "code",
   "execution_count": 40,
   "metadata": {},
   "outputs": [],
   "source": [
    "def dist(x, u):\n",
    "    return np.dot(x, u) * 2\n",
    "\n",
    "def diff(x):\n",
    "    return np.log((1 + dist (u, x))) + np.log((1 + dist (v, x))) + np.log((1 + dist (w, x)))\n"
   ]
  },
  {
   "cell_type": "markdown",
   "metadata": {},
   "source": [
    "## Part 2"
   ]
  },
  {
   "cell_type": "markdown",
   "metadata": {},
   "source": [
    "Compute Diff(x) for 20 random points. \n",
    "\n",
    "What is the average value of Diff?\n",
    "What is the lowest and highest value you found?\n"
   ]
  },
  {
   "cell_type": "code",
   "execution_count": 21,
   "metadata": {},
   "outputs": [
    {
     "name": "stdout",
     "output_type": "stream",
     "text": [
      "[27.952484026829836, 25.540128725310197, 25.219684263336962, 22.778572322837814, 27.315215959020563, 26.141225769210422, 24.70943235271822, 24.2093170614193, 27.562741145464763, 28.469763085540905, 26.125329393317713, 25.08303105062312, 27.197051729289964, 25.093993596754622, 24.003939371294578, 24.147998493872464, 27.53136467253577, 28.209475441154524, 25.12650552192715, 26.16310137842045]\n",
      "Average: 25.92901776804397, Lowest Value: 22.778572322837814, Highest Value: 28.469763085540905\n"
     ]
    }
   ],
   "source": [
    "diffs = []\n",
    "\n",
    "for i in range(20):\n",
    "    #based on the values in the table I decided to pick a random number between 0 and 100\n",
    "    diffs.append(diff(np.array([random.randrange(100), random.randrange(100)]))) \n",
    "\n",
    "print(diffs)\n",
    "print(f\"Average: {np.mean(diffs)}, Lowest Value: {min(diffs)}, Highest Value: {max(diffs)}\")"
   ]
  },
  {
   "cell_type": "markdown",
   "metadata": {},
   "source": [
    "**Is random search a good way to minimize this function?**"
   ]
  },
  {
   "cell_type": "markdown",
   "metadata": {},
   "source": [
    "No.\n",
    "\n",
    "We have to hope that we randomly stumple across the vector with the minimum distance in our sample. \n",
    "\n",
    "We have no way of verifying if the lowest value we found is the minimum value.\n",
    "\n"
   ]
  },
  {
   "cell_type": "markdown",
   "metadata": {},
   "source": [
    "## Part 3"
   ]
  },
  {
   "cell_type": "markdown",
   "metadata": {},
   "source": [
    "Set x0=(50,50). Compute Diff(x)=Diff(50,50)."
   ]
  },
  {
   "cell_type": "code",
   "execution_count": 32,
   "metadata": {},
   "outputs": [
    {
     "ename": "TypeError",
     "evalue": "'numpy.float64' object is not callable",
     "output_type": "error",
     "traceback": [
      "\u001b[0;31m---------------------------------------------------------------------------\u001b[0m",
      "\u001b[0;31mTypeError\u001b[0m                                 Traceback (most recent call last)",
      "\u001b[0;32m<ipython-input-32-f63421a5d08e>\u001b[0m in \u001b[0;36m<module>\u001b[0;34m\u001b[0m\n\u001b[1;32m      1\u001b[0m \u001b[0mx0\u001b[0m \u001b[0;34m=\u001b[0m \u001b[0mnp\u001b[0m\u001b[0;34m.\u001b[0m\u001b[0marray\u001b[0m\u001b[0;34m(\u001b[0m\u001b[0;34m[\u001b[0m\u001b[0;36m0\u001b[0m\u001b[0;34m,\u001b[0m \u001b[0;36m0\u001b[0m\u001b[0;34m]\u001b[0m\u001b[0;34m)\u001b[0m\u001b[0;34m\u001b[0m\u001b[0;34m\u001b[0m\u001b[0m\n\u001b[0;32m----> 2\u001b[0;31m \u001b[0mdiff\u001b[0m \u001b[0;34m=\u001b[0m \u001b[0mdiff\u001b[0m\u001b[0;34m(\u001b[0m\u001b[0mx0\u001b[0m\u001b[0;34m)\u001b[0m\u001b[0;34m\u001b[0m\u001b[0;34m\u001b[0m\u001b[0m\n\u001b[0m\u001b[1;32m      3\u001b[0m \u001b[0;34m\u001b[0m\u001b[0m\n\u001b[1;32m      4\u001b[0m \u001b[0mprint\u001b[0m\u001b[0;34m(\u001b[0m\u001b[0mx0\u001b[0m\u001b[0;34m)\u001b[0m\u001b[0;34m\u001b[0m\u001b[0;34m\u001b[0m\u001b[0m\n\u001b[1;32m      5\u001b[0m \u001b[0mprint\u001b[0m\u001b[0;34m(\u001b[0m\u001b[0mdiff\u001b[0m\u001b[0;34m)\u001b[0m\u001b[0;34m\u001b[0m\u001b[0;34m\u001b[0m\u001b[0m\n",
      "\u001b[0;31mTypeError\u001b[0m: 'numpy.float64' object is not callable"
     ]
    }
   ],
   "source": [
    "x0 = np.array([50, 50])\n",
    "diff = diff(x0)\n",
    "\n",
    "print(x0)\n",
    "print(diff)"
   ]
  },
  {
   "cell_type": "markdown",
   "metadata": {},
   "source": [
    "## Part 4"
   ]
  },
  {
   "cell_type": "markdown",
   "metadata": {},
   "source": [
    "Create a function to compute and print the gradient of Diff by using a small delta=0.001."
   ]
  },
  {
   "cell_type": "code",
   "execution_count": 26,
   "metadata": {},
   "outputs": [],
   "source": [
    "def gradient(x, delta=.001):\n",
    "    start = diff(x)\n",
    "    result = []\n",
    "    for i, n in enumerate(x):\n",
    "        #change number in x by delta\n",
    "        x[i] += delta\n",
    "        step = diff(x)\n",
    "        result.append(start - step)\n",
    "        x[i] -= delta\n",
    "\n",
    "    return np.array(result)"
   ]
  },
  {
   "cell_type": "markdown",
   "metadata": {},
   "source": [
    "## Part 5"
   ]
  },
  {
   "cell_type": "markdown",
   "metadata": {},
   "source": [
    "Use this function to print the gradient at (0,0), (100,0), (0,100) and (100,100). \n",
    "Based on these values, where could be a minimum of Diif?"
   ]
  },
  {
   "cell_type": "code",
   "execution_count": 43,
   "metadata": {},
   "outputs": [
    {
     "name": "stdout",
     "output_type": "stream",
     "text": [
      "Gradient at [0. 0.]\tis [-0.302 -0.13 ]\n",
      "Gradient at [100.   0.]\tis [-3.000e-05 -2.584e-05]\n",
      "Gradient at [  0. 100.]\tis [-1.758e-04 -2.999e-05]\n",
      "Gradient at [100 100]\tis [0.   0.02]\n"
     ]
    }
   ],
   "source": [
    "points = [np.array([0., 0.]), np.array([100, 0.]), np.array([0., 100]), np.array([100, 100])]\n",
    "for point in points:\n",
    "    print(f\"Gradient at {point}\\tis {gradient(point)}\")"
   ]
  },
  {
   "cell_type": "code",
   "execution_count": null,
   "metadata": {},
   "outputs": [],
   "source": []
  }
 ],
 "metadata": {
  "kernelspec": {
   "display_name": "Python 3",
   "language": "python",
   "name": "python3"
  },
  "language_info": {
   "codemirror_mode": {
    "name": "ipython",
    "version": 3
   },
   "file_extension": ".py",
   "mimetype": "text/x-python",
   "name": "python",
   "nbconvert_exporter": "python",
   "pygments_lexer": "ipython3",
   "version": "3.8.3"
  }
 },
 "nbformat": 4,
 "nbformat_minor": 4
}
