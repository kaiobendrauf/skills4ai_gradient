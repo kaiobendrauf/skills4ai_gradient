{
 "cells": [
  {
   "cell_type": "markdown",
   "metadata": {},
   "source": [
    "# Python exercise 'estimate gradient’ "
   ]
  },
  {
   "cell_type": "markdown",
   "metadata": {},
   "source": [
    "## Import Statements"
   ]
  },
  {
   "cell_type": "code",
   "execution_count": 14,
   "metadata": {},
   "outputs": [],
   "source": [
    "import numpy as np\n",
    "import seaborn as sns\n",
    "import matplotlib.pyplot as plt\n",
    "import matplotlib.animation as animation\n",
    "import random\n",
    "\n",
    "from scipy import stats \n",
    "from sklearn.datasets import make_regression "
   ]
  },
  {
   "cell_type": "markdown",
   "metadata": {},
   "source": [
    "## Part 1"
   ]
  },
  {
   "cell_type": "markdown",
   "metadata": {},
   "source": [
    "Pick three vectors from the table, using letters from your names and using each column."
   ]
  },
  {
   "cell_type": "code",
   "execution_count": 15,
   "metadata": {},
   "outputs": [],
   "source": [
    "# We pick C, K and A from Cathy and Kai\n",
    "u = np.array([19, 41]) # from C\n",
    "v = np.array([86, 6])  # from K\n",
    "w = np.array([56, 20]) # from A"
   ]
  },
  {
   "cell_type": "markdown",
   "metadata": {},
   "source": [
    "Define the distance between two vectors as x, u as:\n",
    "Dist (x,u)= (x1-u1)^2+(x2-u2)^2\n",
    "\n",
    "Define the similarity function:\n",
    "Diff(x) = ln(1+Dist(u,x))+ln(1+Dist(v,x))+ln(1+Dist(w,x))\n",
    "\n",
    "Diff(x) is the distance between person x and your focus group of three people.\n",
    "\n"
   ]
  },
  {
   "cell_type": "code",
   "execution_count": 16,
   "metadata": {},
   "outputs": [],
   "source": [
    "def dist(x,u):\n",
    "    return (x[0]-u[0])**2 + (x[1]-u[1])**2\n",
    "\n",
    "def diff(x):\n",
    "    return np.log((1 + dist (u, x))) + np.log((1 + dist (v, x))) + np.log((1 + dist (w, x)))\n"
   ]
  },
  {
   "cell_type": "markdown",
   "metadata": {},
   "source": [
    "## Part 2"
   ]
  },
  {
   "cell_type": "markdown",
   "metadata": {},
   "source": [
    "Compute Diff(x) for 20 random points. \n",
    "\n",
    "What is the average value of Diff?\n",
    "What is the lowest and highest value you found?\n"
   ]
  },
  {
   "cell_type": "code",
   "execution_count": 17,
   "metadata": {},
   "outputs": [
    {
     "name": "stdout",
     "output_type": "stream",
     "text": [
      "[25.718256785122335, 23.4805347703696, 23.85415321104746, 18.492788945754707, 24.108514450448332, 18.820549582111923, 25.21596295947071, 25.261758956225542, 24.408109181843653, 21.135847516085448, 24.41694950532021, 26.17736541402993, 26.059649494058313, 23.62296276002337, 20.998677098750562, 20.296625827154116, 21.07617054296186, 22.827048026967397, 20.29434638199281, 25.690327927359263]\n",
      "Average: 23.097829966854878, Lowest Value: 18.492788945754707, Highest Value: 26.17736541402993\n"
     ]
    }
   ],
   "source": [
    "diffs = []\n",
    "\n",
    "for i in range(20):\n",
    "    #based on the values in the table I decided to pick a random number between 0 and 100\n",
    "    diffs.append(diff(np.array([random.randrange(100), random.randrange(100)]))) \n",
    "\n",
    "print(diffs)\n",
    "print(f\"Average: {np.mean(diffs)}, Lowest Value: {min(diffs)}, Highest Value: {max(diffs)}\")"
   ]
  },
  {
   "cell_type": "markdown",
   "metadata": {},
   "source": [
    "**Is random search a good way to minimize this function?**"
   ]
  },
  {
   "cell_type": "markdown",
   "metadata": {},
   "source": [
    "No.\n",
    "\n",
    "We have to hope that we randomly stumple across the vector with the minimum distance in our sample. \n",
    "\n",
    "We have no way of verifying if the lowest value we found is the minimum value.\n",
    "\n"
   ]
  },
  {
   "cell_type": "markdown",
   "metadata": {},
   "source": [
    "## Part 3"
   ]
  },
  {
   "cell_type": "markdown",
   "metadata": {},
   "source": [
    "Set x0=(50,50). Compute Diff(x)=Diff(50,50)."
   ]
  },
  {
   "cell_type": "code",
   "execution_count": 18,
   "metadata": {},
   "outputs": [
    {
     "name": "stdout",
     "output_type": "stream",
     "text": [
      "[50 50]\n",
      "21.873705514964627\n"
     ]
    }
   ],
   "source": [
    "x0 = np.array([50, 50])\n",
    "diff_x0 = diff(x0)\n",
    "\n",
    "print(x0)\n",
    "print(diff_x0)"
   ]
  },
  {
   "cell_type": "markdown",
   "metadata": {},
   "source": [
    "## Part 4"
   ]
  },
  {
   "cell_type": "markdown",
   "metadata": {},
   "source": [
    "Create a function to compute and print the gradient of Diff by using a small delta=0.001."
   ]
  },
  {
   "cell_type": "code",
   "execution_count": 34,
   "metadata": {},
   "outputs": [],
   "source": [
    "def gradient(x, delta=.001):\n",
    "    start = diff(x)\n",
    "    result = []\n",
    "    for i, n in enumerate(x):\n",
    "        #change number in x by delta\n",
    "        x[i] += delta\n",
    "        step = diff(x)\n",
    "        result.append(start - step)\n",
    "        x[i] -= delta\n",
    "\n",
    "    return np.array(result)\n"
   ]
  },
  {
   "cell_type": "markdown",
   "metadata": {},
   "source": [
    "## Part 5"
   ]
  },
  {
   "cell_type": "markdown",
   "metadata": {},
   "source": [
    "Use this function to print the gradient at (0,0), (100,0), (0,100) and (100,100). "
   ]
  },
  {
   "cell_type": "code",
   "execution_count": 35,
   "metadata": {},
   "outputs": [
    {
     "name": "stdout",
     "output_type": "stream",
     "text": [
      "Gradient at [0 0]\tis [0. 0.]\n",
      "Gradient at [100   0]\tis [0.         0.18082511]\n",
      "Gradient at [  0 100]\tis [0. 0.]\n",
      "Gradient at [100 100]\tis [0.         0.02964471]\n"
     ]
    }
   ],
   "source": [
    "points = np.array([[0, 0],[100, 0],[0, 100],[100, 100]])\n",
    "\n",
    "for point in points:\n",
    "    print(f\"Gradient at {point}\\tis {gradient(point)}\")"
   ]
  },
  {
   "cell_type": "code",
   "execution_count": 26,
   "metadata": {},
   "outputs": [
    {
     "name": "stdout",
     "output_type": "stream",
     "text": [
      "[[  0.   0.]\n",
      " [100.   0.]\n",
      " [  0. 100.]\n",
      " [100. 100.]]\n",
      "Gradient at [0. 0.]\tis [7.34054374e-05 5.30604585e-05]\n",
      "Gradient at [100.   0.]\tis [-1.77476545e-04  7.85626220e-05]\n",
      "Gradient at [  0. 100.]\tis [ 3.22272906e-05 -5.90630365e-05]\n",
      "Gradient at [100. 100.]\tis [-2.97858789e-05 -5.17534695e-05]\n"
     ]
    }
   ],
   "source": [
    "points = np.array([[0., 0.],[100., 0.],[0., 100.],[100., 100.]])\n",
    "\n",
    "for point in points:\n",
    "    print(f\"Gradient at {point}\\tis {gradient(point)}\")"
   ]
  },
  {
   "cell_type": "markdown",
   "metadata": {},
   "source": [
    "**Based on these values, where could be a minimum of Diff?**"
   ]
  },
  {
   "cell_type": "markdown",
   "metadata": {},
   "source": []
  },
  {
   "cell_type": "markdown",
   "metadata": {},
   "source": [
    "## Part 6"
   ]
  },
  {
   "cell_type": "markdown",
   "metadata": {},
   "source": [
    "Define xzero=(50,50) and stepsize=1.0. Make a function to compute xnext by taking e a small step into the opposite direction of the gradient, so that diff decreases. E.g. if the gradient is (0.4,0.6), do xnext=(oldx1-0.4*stepsize,oldx2-0.6*stepsize) "
   ]
  },
  {
   "cell_type": "code",
   "execution_count": 69,
   "metadata": {},
   "outputs": [
    {
     "name": "stdout",
     "output_type": "stream",
     "text": [
      "[[49.         49.        ]\n",
      " [48.97584206 48.97584206]]\n"
     ]
    }
   ],
   "source": [
    "def xnext(x,stepsize):\n",
    "    start = gradient(x)\n",
    "    xnext = np.array([x-(start[0]*stepsize),x-(start[1]*stepsize)])\n",
    "    return xnext\n",
    "\n",
    "\n",
    "xzero = np.array([50,50])\n",
    "stepsize = 1\n",
    "print(xnext(xzero,stepsize))"
   ]
  },
  {
   "cell_type": "code",
   "execution_count": null,
   "metadata": {},
   "outputs": [],
   "source": []
  },
  {
   "cell_type": "code",
   "execution_count": null,
   "metadata": {},
   "outputs": [],
   "source": []
  }
 ],
 "metadata": {
  "kernelspec": {
   "display_name": "Python 3",
   "language": "python",
   "name": "python3"
  },
  "language_info": {
   "codemirror_mode": {
    "name": "ipython",
    "version": 3
   },
   "file_extension": ".py",
   "mimetype": "text/x-python",
   "name": "python",
   "nbconvert_exporter": "python",
   "pygments_lexer": "ipython3",
   "version": "3.8.3"
  }
 },
 "nbformat": 4,
 "nbformat_minor": 4
}
