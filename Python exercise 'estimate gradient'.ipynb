{
 "cells": [
  {
   "cell_type": "markdown",
   "metadata": {},
   "source": [
    "# Python exercise 'estimate gradient’ "
   ]
  },
  {
   "cell_type": "markdown",
   "metadata": {},
   "source": [
    "## Import Statements"
   ]
  },
  {
   "cell_type": "code",
   "execution_count": 3,
   "metadata": {},
   "outputs": [],
   "source": [
    "import numpy as np\n",
    "import seaborn as sns\n",
    "import matplotlib.pyplot as plt\n",
    "import matplotlib.animation as animation\n",
    "import random\n",
    "\n",
    "from scipy import stats \n",
    "from sklearn.datasets import make_regression "
   ]
  },
  {
   "cell_type": "markdown",
   "metadata": {},
   "source": [
    "## Part 1"
   ]
  },
  {
   "cell_type": "markdown",
   "metadata": {},
   "source": [
    "Pick three vectors from the table, using letters from your names and using each column."
   ]
  },
  {
   "cell_type": "code",
   "execution_count": 16,
   "metadata": {},
   "outputs": [],
   "source": [
    "# We pick C, K and A from Cathy and Kai\n",
    "u = np.array([19., 41.]) # from C\n",
    "v = np.array([86., 6.])  # from K\n",
    "w = np.array([56., 20.]) # from A"
   ]
  },
  {
   "cell_type": "markdown",
   "metadata": {},
   "source": [
    "Define the distance between two vectors as x, u as:\n",
    "Dist (x,u)= (x1-u1)^2+(x2-u2)^2\n",
    "\n",
    "Define the similarity function:\n",
    "Diff(x) = ln(1+Dist(u,x))+ln(1+Dist(v,x))+ln(1+Dist(w,x))\n",
    "\n",
    "Diff(x) is the distance between person x and your focus group of three people.\n",
    "\n"
   ]
  },
  {
   "cell_type": "code",
   "execution_count": 17,
   "metadata": {},
   "outputs": [],
   "source": [
    "def dist(x,u):\n",
    "    #return (x[0]-u[0])**2 + (x[1]-u[1])**2\n",
    "    return np.sum((x - u) ** 2)\n",
    "\n",
    "def diff(x):\n",
    "    return np.log((1 + dist (u, x))) + np.log((1 + dist (v, x))) + np.log((1 + dist (w, x)))"
   ]
  },
  {
   "cell_type": "markdown",
   "metadata": {},
   "source": [
    "## Part 2"
   ]
  },
  {
   "cell_type": "markdown",
   "metadata": {},
   "source": [
    "Compute Diff(x) for 20 random points. \n",
    "\n",
    "What is the average value of Diff?\n",
    "What is the lowest and highest value you found?\n"
   ]
  },
  {
   "cell_type": "code",
   "execution_count": 50,
   "metadata": {},
   "outputs": [
    {
     "name": "stdout",
     "output_type": "stream",
     "text": [
      "[23.432541312892724, 27.2697312190068, 25.495868923511708, 24.115705859328756, 25.66897812793738, 26.021998594367712, 21.923568377587287, 25.753389577989367, 21.161884615870406, 20.203451456749683, 21.127786226948917, 21.411062587951918, 23.70277849050528, 19.561680342195643, 26.012782463313393, 23.128624296482254, 23.496383712659796, 19.815688294744128, 26.31414141777867, 26.456800081244168]\n",
      "Average: 23.6037422989533, Lowest Value: 19.561680342195643, Highest Value: 27.2697312190068\n"
     ]
    }
   ],
   "source": [
    "diffs = []\n",
    "\n",
    "for i in range(20):\n",
    "    #based on the values in the table I decided to pick a random number between 0 and 100\n",
    "    diffs.append(diff(np.array([float(random.randrange(100)), float(random.randrange(100))]))) \n",
    "\n",
    "print(diffs)\n",
    "print(f\"Average: {np.mean(diffs)}, Lowest Value: {min(diffs)}, Highest Value: {max(diffs)}\")"
   ]
  },
  {
   "cell_type": "markdown",
   "metadata": {},
   "source": [
    "**Is random search a good way to minimize this function?**"
   ]
  },
  {
   "cell_type": "markdown",
   "metadata": {},
   "source": [
    "No.\n",
    "\n",
    "We have to hope that we randomly stumple across the vector with the minimum distance in our sample. \n",
    "\n",
    "We have no way of verifying if the lowest value we found is the minimum value.\n",
    "\n"
   ]
  },
  {
   "cell_type": "markdown",
   "metadata": {},
   "source": [
    "## Part 3"
   ]
  },
  {
   "cell_type": "markdown",
   "metadata": {},
   "source": [
    "Set x0=(50,50). Compute Diff(x)=Diff(50,50)."
   ]
  },
  {
   "cell_type": "code",
   "execution_count": 53,
   "metadata": {},
   "outputs": [
    {
     "name": "stdout",
     "output_type": "stream",
     "text": [
      "[50. 50.]\n",
      "21.873705514964627\n"
     ]
    }
   ],
   "source": [
    "x0 = np.array([50., 50.])\n",
    "diff_x0 = diff(x0)\n",
    "\n",
    "print(x0)\n",
    "print(diff_x0)"
   ]
  },
  {
   "cell_type": "markdown",
   "metadata": {},
   "source": [
    "## Part 4"
   ]
  },
  {
   "cell_type": "markdown",
   "metadata": {},
   "source": [
    "Create a function to compute and print the gradient of Diff by using a small delta=0.001."
   ]
  },
  {
   "cell_type": "code",
   "execution_count": 120,
   "metadata": {},
   "outputs": [],
   "source": [
    "def gradient(x, delta=.001):\n",
    "    start = diff(x)\n",
    "    result = []\n",
    "    for i in range(len(x)):\n",
    "        #change each number in x by delta\n",
    "        x[i] += delta\n",
    "        step = diff(x)\n",
    "        result.append((step - start)/delta)\n",
    "        x[i] -= delta\n",
    "    return np.array(result)"
   ]
  },
  {
   "cell_type": "markdown",
   "metadata": {},
   "source": [
    "## Part 5"
   ]
  },
  {
   "cell_type": "markdown",
   "metadata": {},
   "source": [
    "Use this function to print the gradient at (0,0), (100,0), (0,100) and (100,100). "
   ]
  },
  {
   "cell_type": "code",
   "execution_count": 154,
   "metadata": {},
   "outputs": [
    {
     "name": "stdout",
     "output_type": "stream",
     "text": [
      "Gradient at [0. 0.]\tis [-0.07340544 -0.05306046]\n",
      "Gradient at [100.   0.]\tis [ 0.17747654 -0.07856262]\n",
      "Gradient at [  0. 100.]\tis [-0.03222729  0.05906304]\n",
      "Gradient at [100. 100.]\tis [0.02978588 0.05175347]\n"
     ]
    }
   ],
   "source": [
    "points = np.array([[0., 0.],[100., 0.],[0., 100.],[100., 100.]])\n",
    "\n",
    "for point in points:\n",
    "    print(f\"Gradient at {point}\\tis {gradient(point)}\")\n"
   ]
  },
  {
   "cell_type": "markdown",
   "metadata": {},
   "source": [
    "**Based on these values, where could be a minimum of Diff?**"
   ]
  },
  {
   "cell_type": "markdown",
   "metadata": {},
   "source": [
    "The gradient at (0, 0), (0, 100) and (100, 100) is almost 0 so based on just the gradient any of these could be the minimum of Diff\n",
    "\n",
    "Or more acculately, the gradient at nnonne of these points is 0 so none of them are the minimum."
   ]
  },
  {
   "cell_type": "markdown",
   "metadata": {},
   "source": [
    "## Part 6"
   ]
  },
  {
   "cell_type": "markdown",
   "metadata": {},
   "source": [
    "Define xzero=(50,50) and stepsize=1.0. Make a function to compute xnext by taking e a small step into the opposite direction of the gradient, so that diff decreases. E.g. if the gradient is (0.4,0.6), do xnext=(oldx1-0.4*stepsize,oldx2-0.6*stepsize) "
   ]
  },
  {
   "cell_type": "code",
   "execution_count": 155,
   "metadata": {},
   "outputs": [
    {
     "name": "stdout",
     "output_type": "stream",
     "text": [
      "[49.97563302 49.89148887]\n"
     ]
    }
   ],
   "source": [
    "def xnext(x,stepsize):\n",
    "    return x - stepsize*gradient(x)\n",
    "\n",
    "\n",
    "xzero = np.array([50.,50.])\n",
    "stepsize = 1\n",
    "print(xnext(xzero,stepsize))"
   ]
  },
  {
   "cell_type": "markdown",
   "metadata": {},
   "source": [
    "## Part 7"
   ]
  },
  {
   "cell_type": "markdown",
   "metadata": {},
   "source": [
    "Repeat this multiple times (make a function to do this automatically) and print x and Diff(x) at each step. You may need to adjust stepsize if you overshoot or are not moving at all. Try to reach a local minimum."
   ]
  },
  {
   "cell_type": "code",
   "execution_count": 174,
   "metadata": {},
   "outputs": [
    {
     "name": "stdout",
     "output_type": "stream",
     "text": [
      "The diff at [46.88102619 36.1105756 ]\t is 20.32612702442386\n",
      "The diff at [48.88394461 22.50949399]\t is 18.58816627086337\n",
      "The diff at [56.63646668 20.05443241]\t is 14.83523134797533\n",
      "The diff at [55.74694056 19.97247729]\t is 14.568150619926284\n",
      "The diff at [56.23489412 20.02154078]\t is 14.552880744329428\n",
      "The diff at [55.80321026 19.97686046]\t is 14.543125257653882\n",
      "The diff at [56.19457751 20.01859679]\t is 14.536791076544677\n",
      "The diff at [55.83297902 19.97898652]\t is 14.5321582682628\n",
      "The diff at [56.17048987 20.01697743]\t is 14.528564347005055\n",
      "The diff at [55.85240793 19.98025661]\t is 14.5258837952615\n",
      "The diff at [56.1538766  20.01595539]\t is 14.523513658110202\n",
      "The diff at [55.86644904 19.98109186]\t is 14.52179288000784\n",
      "The diff at [56.1414773  20.01526286]\t is 14.520081843061535\n",
      "The diff at [55.87724078 19.98167118]\t is 14.518905131964356\n",
      "The diff at [56.13174268 20.01477413]\t is 14.5175924227614\n",
      "The diff at [55.88588697 19.98208553]\t is 14.516753947416701\n",
      "The diff at [56.12382459 20.01442124]\t is 14.515701720547069\n",
      "The diff at [55.89302544 19.98238671]\t is 14.515087647013315\n",
      "The diff at [56.11721279 20.0141638 ]\t is 14.514215870809338\n",
      "The diff at [55.89905494 19.98260664]\t is 14.51375805809953\n",
      "The diff at [56.11157877 20.01397617]\t is 14.513016930264294\n",
      "The diff at [55.90423968 19.98276617]\t is 14.512672081093244\n",
      "The diff at [56.10669987 20.01384119]\t is 14.512028905983613\n",
      "The diff at [55.90876286 19.98287956]\t is 14.51176819392606\n",
      "The diff at [56.10241893 20.0137469 ]\t is 14.511200570549244\n",
      "The diff at [55.91275614 19.98295689]\t is 14.511004068744924\n",
      "The diff at [56.09862133 20.01368469]\t is 14.510496104636509\n",
      "The diff at [55.91631695 19.98300554]\t is 14.510349605827242\n",
      "The diff at [56.09522124 20.01364822]\t is 14.509889693510628\n",
      "The diff at [55.91951922 19.98303102]\t is 14.509782802773287\n",
      "The diff at [56.09215286 20.01363268]\t is 14.509362253162685\n",
      "The diff at [55.9224202  19.98303754]\t is 14.509287195834867\n",
      "The diff at [56.0893648  20.01363436]\t is 14.50889936561219\n",
      "The diff at [55.92506503 19.98302836]\t is 14.508850215781363\n",
      "The diff at [56.08681621 20.01365037]\t is 14.508489931728871\n",
      "The diff at [55.92748985 19.98300608]\t is 14.508462097763736\n",
      "The diff at [56.08447421 20.01367839]\t is 14.508125266164695\n",
      "The diff at [55.92972401 19.98297276]\t is 14.508115138640056\n",
      "The diff at [56.08231191 20.01371658]\t is 14.507798473651393\n",
      "The diff at [56.00705176 19.99832332]\t is 14.501919927498578\n",
      "The diff at [56.00689521 19.99832409]\t is 14.501919911529647\n"
     ]
    }
   ],
   "source": [
    "def move_with_constant_stepsize(x = xzero, stepsize = 3.5, number_of_steps = 100):\n",
    "    for i in range (number_of_steps):\n",
    "        print(f\"The diff at {x}\\t is {diff(x)}\")\n",
    "        x = xnext(x, stepsize)\n",
    "\n",
    "def move_with_dynamic_stepsize(x = xzero, initial_step_size = 128, allowed_error = 0.01): \n",
    "    stepsize = initial_step_size\n",
    "    while stepsize > allowed_error:\n",
    "        diff_before_step = diff(x)\n",
    "        new_x = xnext(x, stepsize)\n",
    "        diff_after_step = diff(new_x)\n",
    "        #print(f'diff before: {diff_before_step}\\t diff after:{diff_after_step}')\n",
    "        #print(f'x before: {x}\\t x after:{new_x}')\n",
    "\n",
    "        if diff_after_step >= diff_before_step:\n",
    "            #bad step\n",
    "            #print(f'new step size: {stepsize/2}')\n",
    "            stepsize = stepsize/2\n",
    "        else:\n",
    "            #good step\n",
    "            x = new_x\n",
    "            stepsize = initial_step_size\n",
    "            print(f\"The diff at {x}\\t is {diff(x)}\")\n",
    "            \n",
    "move_with_dynamic_stepsize()\n"
   ]
  },
  {
   "cell_type": "markdown",
   "metadata": {},
   "source": [
    "## Part 8\n",
    "\n"
   ]
  },
  {
   "cell_type": "markdown",
   "metadata": {},
   "source": [
    "Repeat step 7 with starting points (0,0) and (100,100). Do you always end up at the same point?"
   ]
  },
  {
   "cell_type": "code",
   "execution_count": 175,
   "metadata": {},
   "outputs": [
    {
     "name": "stdout",
     "output_type": "stream",
     "text": [
      "The diff at [9.39589598 6.79173868]\t is 23.580238969127137\n",
      "The diff at [19.7652943  15.12898203]\t is 22.112756737641774\n",
      "The diff at [30.19979767 25.41044066]\t is 20.615374585905087\n",
      "The diff at [36.02189671 32.79863302]\t is 20.291680621834573\n",
      "The diff at [36.89675742 30.72022638]\t is 20.246355614866587\n",
      "The diff at [40.49478478 29.0829052 ]\t is 20.05078109496919\n",
      "The diff at [48.12754825 24.67741423]\t is 18.944999853839768\n",
      "The diff at [59.37915223 18.15365189]\t is 17.190459819478647\n",
      "The diff at [52.94126314 21.77184825]\t is 17.132990196164197\n",
      "The diff at [56.60524811 19.68491504]\t is 14.874447393167586\n",
      "The diff at [55.79460686 20.11109121]\t is 14.558082986510321\n",
      "The diff at [56.19649866 19.8974262 ]\t is 14.54690399289752\n",
      "The diff at [55.83544021 20.08941619]\t is 14.53887698972946\n",
      "The diff at [56.16583146 19.91358954]\t is 14.533791773322523\n",
      "The diff at [55.85878452 20.07704715]\t is 14.52961341678999\n",
      "The diff at [56.1465634  19.92374012]\t is 14.526654287462675\n",
      "The diff at [55.87456059 20.06870022]\t is 14.524083066054786\n",
      "The diff at [56.13291685 19.93092428]\t is 14.522126719613194\n",
      "The diff at [55.88620019 20.06254983]\t is 14.520386826177576\n",
      "The diff at [56.12255759 19.93637352]\t is 14.518986499979377\n",
      "The diff at [55.89527311 20.05776158]\t is 14.517734374141044\n",
      "The diff at [56.11432589 19.94069987]\t is 14.51667577466119\n",
      "The diff at [55.90261845 20.05388966]\t is 14.515734902671655\n",
      "The diff at [56.10756837 19.94424821]\t is 14.514901975372808\n",
      "The diff at [55.90873281 20.05067039]\t is 14.514172052461298\n",
      "The diff at [56.10188385 19.94723032]\t is 14.51349630942715\n",
      "The diff at [55.91393209 20.04793609]\t is 14.51291600043387\n",
      "The diff at [56.09701009 19.94978462]\t is 14.512354340800574\n",
      "The diff at [55.91842844 20.04557418]\t is 14.511883982192183\n",
      "The diff at [56.09276719 19.95200609]\t is 14.511407888749037\n",
      "The diff at [55.92237053 20.0435058 ]\t is 14.511020673040539\n",
      "The diff at [56.08902697 19.95396239]\t is 14.510610503928474\n",
      "The diff at [55.92586613 20.0416738 ]\t is 14.510287652166491\n",
      "The diff at [56.0856952  19.95570324]\t is 14.509929424548787\n",
      "The diff at [55.92899559 20.04003559]\t is 14.509657386156473\n",
      "The diff at [56.08270083 19.95726616]\t is 14.509340866950362\n",
      "The diff at [55.93182023 20.03855867]\t is 14.509109617047644\n",
      "The diff at [56.07998912 19.95868003]\t is 14.508827139447124\n",
      "The diff at [55.93438781 20.03721772]\t is 14.508629101852817\n",
      "The diff at [56.07751706 19.95996755]\t is 14.508374804471433\n",
      "The diff at [55.93673614 20.03599272]\t is 14.508204147258626\n",
      "The diff at [56.07525035 19.96114682]\t is 14.507973469457818\n",
      "The diff at [55.93889563 20.03486757]\t is 14.507825630717624\n",
      "The diff at [56.07316126 19.96223247]\t is 14.507614968678096\n",
      "The diff at [55.94089106 20.03382913]\t is 14.50748632914973\n",
      "The diff at [56.07122703 19.96323649]\t is 14.50729279587786\n",
      "The diff at [55.94274284 20.03286662]\t is 14.507180447934418\n",
      "The diff at [56.06942886 19.96416882]\t is 14.507001702255192\n",
      "The diff at [55.94446796 20.03197103]\t is 14.50690328367216\n",
      "The diff at [56.06775098 19.96503777]\t is 14.50673740609622\n",
      "The diff at [55.94608072 20.0311348 ]\t is 14.506650978338392\n",
      "The diff at [56.06618012 19.96585034]\t is 14.506496379440854\n",
      "The diff at [55.94759324 20.03035152]\t is 14.506420337142226\n",
      "The diff at [56.06470496 19.96661249]\t is 14.506275688916933\n",
      "The diff at [55.94901585 20.02961573]\t is 14.506208691604598\n",
      "The diff at [56.06331581 19.96732933]\t is 14.506072875328933\n",
      "The diff at [55.95035745 20.0289227 ]\t is 14.506013795262643\n",
      "The diff at [56.06200432 19.96800527]\t is 14.50588586140992\n",
      "The diff at [55.95162574 20.02826839]\t is 14.505833743265928\n",
      "The diff at [56.06076324 19.96864413]\t is 14.505712880330778\n",
      "The diff at [55.95282744 20.02764923]\t is 14.50566690970533\n",
      "The diff at [56.05958624 19.96924924]\t is 14.505552419707945\n",
      "The diff at [55.9539684  20.02706213]\t is 14.505511898271248\n",
      "The diff at [56.05846776 19.96982353]\t is 14.505403177324261\n",
      "The diff at [55.95505379 20.02650436]\t is 14.505367503038567\n",
      "The diff at [56.0574029  19.97036959]\t is 14.505264025793569\n",
      "The diff at [55.95608818 20.02597351]\t is 14.505232677036908\n",
      "The diff at [56.05638733 19.97088969]\t is 14.505133984135004\n",
      "The diff at [55.95707561 20.02546744]\t is 14.505106506854096\n",
      "The diff at [56.05541719 19.97138587]\t is 14.505012194721152\n",
      "The diff at [55.95801968 20.02498425]\t is 14.504988191964769\n",
      "The diff at [56.05448904 19.97185994]\t is 14.5048979044557\n",
      "The diff at [55.95892364 20.02452222]\t is 14.504877027787678\n",
      "The diff at [56.0535998  19.97231352]\t is 14.504790449297635\n",
      "The diff at [55.95979038 20.02407984]\t is 14.504772391708594\n",
      "The diff at [56.0527467  19.97274807]\t is 14.50468924146029\n",
      "The diff at [55.9606225  20.02365573]\t is 14.504673731480484\n",
      "The diff at [56.05192722 19.97316492]\t is 14.504593758756725\n",
      "The diff at [55.96142237 20.02324863]\t is 14.504580555541754\n",
      "The diff at [56.05113911 19.97356524]\t is 14.504503535686968\n",
      "The diff at [55.96219212 20.02285743]\t is 14.504492424891483\n",
      "The diff at [56.05038033 19.97395013]\t is 14.504418155939408\n",
      "The diff at [55.96293369 20.02248109]\t is 14.504408946237461\n",
      "The diff at [56.04964899 19.97432055]\t is 14.504337246055025\n",
      "The diff at [55.96364885 20.02211869]\t is 14.504329766191072\n",
      "The diff at [56.0489434  19.97467742]\t is 14.504260470044365\n",
      "The diff at [55.96433921 20.02176938]\t is 14.504254566324063\n",
      "The diff at [56.04826201 19.97502154]\t is 14.504187524799551\n",
      "The diff at [55.96500626 20.02143237]\t is 14.504183058943779\n",
      "The diff at [56.04760337 19.97535367]\t is 14.504118136163468\n",
      "The diff at [55.96565135 20.02110696]\t is 14.504114983468536\n",
      "The diff at [56.0469662  19.97567449]\t is 14.504052055549717\n",
      "The diff at [55.96627572 20.02079248]\t is 14.504050103302532\n",
      "The diff at [56.04634927 19.97598464]\t is 14.503989057027155\n",
      "The diff at [55.96688053 20.02048833]\t is 14.503988203135075\n",
      "The diff at [56.04575149 19.97628471]\t is 14.503928934793784\n",
      "The diff at [56.00660916 19.99823933]\t is 14.501920102764718\n"
     ]
    }
   ],
   "source": [
    "move_with_dynamic_stepsize(x=np.array([0., 0.]))"
   ]
  },
  {
   "cell_type": "code",
   "execution_count": 176,
   "metadata": {},
   "outputs": [
    {
     "name": "stdout",
     "output_type": "stream",
     "text": [
      "The diff at [96.1874075 93.3755559]\t is 26.87904724825465\n",
      "The diff at [92.10998157 86.2611196 ]\t is 26.33243974066239\n",
      "The diff at [87.71446576 78.54518952]\t is 25.687631414082233\n",
      "The diff at [82.93163262 70.07177795]\t is 24.907649003812985\n",
      "The diff at [77.67277057 60.6135965 ]\t is 23.933275667038593\n",
      "The diff at [71.83051738 49.8186777 ]\t is 22.661501930408285\n",
      "The diff at [65.27474533 37.05372077]\t is 20.851956862821634\n",
      "The diff at [57.30479816 20.2685717 ]\t is 15.50447620681233\n",
      "The diff at [55.45485137 19.86887519]\t is 14.782494341838227\n",
      "The diff at [56.29714471 20.06682028]\t is 14.586694792713924\n",
      "The diff at [55.76672793 19.94046756]\t is 14.561387875767748\n",
      "The diff at [56.2204334  20.05038555]\t is 14.548888667840048\n",
      "The diff at [55.8142466  19.95063034]\t is 14.540692707343348\n",
      "The diff at [56.18524543 20.0430787 ]\t is 14.535030256417107\n",
      "The diff at [55.84084144 19.95612384]\t is 14.530956036337125\n",
      "The diff at [56.16344773 20.03869294]\t is 14.527612807438752\n",
      "The diff at [55.85862672 19.95967613]\t is 14.525210127131091\n",
      "The diff at [56.14813435 20.0357093 ]\t is 14.522951012719712\n",
      "The diff at [55.87166067 19.96219315]\t is 14.521396421771508\n",
      "The diff at [56.13657477 20.03352995]\t is 14.519737311848663\n",
      "The diff at [55.8817703  19.96407979]\t is 14.518672712006857\n",
      "The diff at [56.12742879 20.03186293]\t is 14.517383013344604\n",
      "The diff at [55.88992267 19.96554891]\t is 14.516626869829505\n",
      "The diff at [56.11994733 20.03054588]\t is 14.51558208309571\n",
      "The diff at [55.89668615 19.9667248 ]\t is 14.515032361246302\n",
      "The diff at [56.11367312 20.02948024]\t is 14.514159067836884\n",
      "The diff at [55.90242049 19.96768566]\t is 14.51375396823859\n",
      "The diff at [56.10830854 20.02860218]\t is 14.513005925557621\n",
      "The diff at [55.90736635 19.96848346]\t is 14.51270583168331\n",
      "The diff at [56.10365012 20.02786832]\t is 14.512052384262978\n",
      "The diff at [55.91169181 19.96915428]\t is 14.511830739567575\n",
      "The diff at [56.0995533 20.027248 ]\t is 14.51125071419585\n",
      "The diff at [55.91551842 19.96972406]\t is 14.51108906217874\n",
      "The diff at [56.09591206 20.02671886]\t is 14.510567334391249\n",
      "The diff at [55.91893659 19.97021199]\t is 14.510452459893349\n",
      "The diff at [56.09264663 20.02626417]\t is 14.509977917684285\n",
      "The diff at [55.92201518 19.97063257]\t is 14.509900118645858\n",
      "The diff at [56.08969562 20.02587112]\t is 14.509464400584035\n",
      "The diff at [55.92480775 19.97099704]\t is 14.509416400707758\n",
      "The diff at [56.08701092 20.02552973]\t is 14.50901308443715\n",
      "The diff at [55.92735663 19.97131421]\t is 14.508989325568795\n",
      "The diff at [56.08455418 20.0252321 ]\t is 14.508613389157683\n",
      "The diff at [55.92969581 19.97159113]\t is 14.508609557188489\n",
      "The diff at [56.08229443 20.02497187]\t is 14.508257011648032\n",
      "The diff at [56.0070737  19.99840269]\t is 14.501919859923778\n",
      "The diff at [56.00691165 19.9983836 ]\t is 14.501919854518913\n"
     ]
    }
   ],
   "source": [
    "move_with_dynamic_stepsize(x=np.array([100., 100.]))"
   ]
  },
  {
   "cell_type": "markdown",
   "metadata": {},
   "source": [
    "## Part 9"
   ]
  },
  {
   "cell_type": "markdown",
   "metadata": {},
   "source": [
    "Make the nicest possible chart using mathplotlib that shows what the Diff function looks like (note: if you find this challenging, you can first make a one-dimensional chart by computing it for (x,40) so the second variable has a fixed value 40). "
   ]
  },
  {
   "cell_type": "markdown",
   "metadata": {},
   "source": [
    "## Part 10"
   ]
  },
  {
   "cell_type": "markdown",
   "metadata": {},
   "source": [
    "Show the gradient field as well in a chart. Use a new plot or add the gradient to the original plot."
   ]
  },
  {
   "cell_type": "code",
   "execution_count": null,
   "metadata": {},
   "outputs": [],
   "source": []
  }
 ],
 "metadata": {
  "kernelspec": {
   "display_name": "Python 3",
   "language": "python",
   "name": "python3"
  },
  "language_info": {
   "codemirror_mode": {
    "name": "ipython",
    "version": 3
   },
   "file_extension": ".py",
   "mimetype": "text/x-python",
   "name": "python",
   "nbconvert_exporter": "python",
   "pygments_lexer": "ipython3",
   "version": "3.7.3"
  }
 },
 "nbformat": 4,
 "nbformat_minor": 4
}
